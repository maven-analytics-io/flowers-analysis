{
 "cells": [
  {
   "cell_type": "markdown",
   "metadata": {
    "heading_collapsed": true
   },
   "source": [
    "## Question:\n",
    "\n",
    "How does Miley Cyrus's Flowers lyrics compare to other songs about flowers?"
   ]
  },
  {
   "cell_type": "markdown",
   "metadata": {},
   "source": [
    "## Step 1: Find Lyrics Data"
   ]
  },
  {
   "cell_type": "markdown",
   "metadata": {},
   "source": [
    "1. I went to genius.com and searched for songs with *'flowers'* in the lyrics.\n",
    "2. In Chrome, I went to *View* > *Developer* > *Inspect Elements*.\n",
    "3. I highlighted the portion of the webpage containing the lyrics.\n",
    "4. I right clicked on the section within the HTML code and selected *Copy* > *Copy element*.\n",
    "5. I copied the text and save it into a .html file."
   ]
  },
  {
   "cell_type": "markdown",
   "metadata": {},
   "source": [
    "## Step 2: Extract Artists and Lyrics Using Beautiful Soup"
   ]
  },
  {
   "cell_type": "code",
   "execution_count": 1,
   "metadata": {},
   "outputs": [],
   "source": [
    "from bs4 import BeautifulSoup\n",
    "\n",
    "# songs_with_flowers.html file location\n",
    "file = 'songs_with_flowers.html'\n",
    "\n",
    "# read the html file, specifically everything within div tags\n",
    "with open(file, \"r\") as page:\n",
    "\n",
    "    contents = page.read()\n",
    "    html = BeautifulSoup(contents, 'html.parser')\n",
    "\n",
    "    html_body = html.find('body')\n",
    "    elements = html.find_all('div')"
   ]
  },
  {
   "cell_type": "code",
   "execution_count": 2,
   "metadata": {},
   "outputs": [],
   "source": [
    "# elements"
   ]
  },
  {
   "cell_type": "code",
   "execution_count": 3,
   "metadata": {},
   "outputs": [
    {
     "data": {
      "text/plain": [
       "['Black Beatles',\n",
       " 'Control',\n",
       " 'Power Trip',\n",
       " 'Supermarket Flowers',\n",
       " 'BTS - 봄날 (Spring Day) (English Translation)',\n",
       " 'Tuscan Leather',\n",
       " 'I’m On One',\n",
       " 'Flowers',\n",
       " 'A Milli',\n",
       " 'When I Was Your Man',\n",
       " 'Call It What You Want',\n",
       " 'Perfect',\n",
       " 'New Freezer',\n",
       " 'Black Barbies',\n",
       " 'Talk',\n",
       " 'Sunday',\n",
       " 'Belle',\n",
       " 'My Beyoncé',\n",
       " 'Moonlight',\n",
       " 'Telephone Calls',\n",
       " 'K.',\n",
       " 'Paint It, Black',\n",
       " 'Big Brother',\n",
       " 'Sunflower, Vol. 6',\n",
       " 'The Way',\n",
       " 'Savior',\n",
       " 'Wat’s Wrong',\n",
       " 'Sandra’s Rose',\n",
       " 'Worldwide Steppers',\n",
       " 'Trouble',\n",
       " 'F.U.N. Song',\n",
       " 'Ready or Not',\n",
       " 'Drug Ballad',\n",
       " 'Hard Feelings/Loveless',\n",
       " 'After the Storm',\n",
       " 'Gold Roses',\n",
       " '\\u200egood guys',\n",
       " 'Just the Two of Us',\n",
       " 'Clean',\n",
       " 'Hella Hoes',\n",
       " '\\u200bsun and moon',\n",
       " 'Lucy in the Sky with Diamonds',\n",
       " 'God Bless Amerika',\n",
       " 'Foreword',\n",
       " 'The Great Gatsby (Chapter VI)',\n",
       " 'Grapejuice',\n",
       " '\\u200bi wanna be your girlfriend',\n",
       " '僕の戦争 (Boku no Sensou)',\n",
       " 'Roses',\n",
       " 'Glory']"
      ]
     },
     "execution_count": 3,
     "metadata": {},
     "output_type": "execute_result"
    }
   ],
   "source": [
    "# extract the text within the divs for songs\n",
    "songs = [s.text for s in html.find_all(\"div\", {\"class\": \"mini_card-title\"})]\n",
    "songs"
   ]
  },
  {
   "cell_type": "code",
   "execution_count": 4,
   "metadata": {},
   "outputs": [
    {
     "data": {
      "text/plain": [
       "['Rae Sremmurd',\n",
       " 'Big Sean',\n",
       " 'J. Cole',\n",
       " 'Ed Sheeran',\n",
       " 'Genius English Translations']"
      ]
     },
     "execution_count": 4,
     "metadata": {},
     "output_type": "execute_result"
    }
   ],
   "source": [
    "# extract the text within the divs for artists\n",
    "artists = [a.text.strip() for a in html.find_all(\"div\", {\"class\": \"mini_card-subtitle\"})]\n",
    "artists[0:5]"
   ]
  },
  {
   "cell_type": "code",
   "execution_count": 5,
   "metadata": {},
   "outputs": [
    {
     "data": {
      "text/plain": [
       "[\"moneys (Ear Drummers) Rae Sremm, Guwop, Mike WiLL I sent flowers, but you said you didn't receive 'em But\",\n",
       " 'verse, then reigned on the hook The legend of Dorothy Flowers proclaimed from the roof The tale of a magnificent',\n",
       " 'for ya Childish sh, you know child and sh Anonymous flowers sent, you know coward sh Now a n signed',\n",
       " 'I took the supermarket flowers from the windowsill I threw the day old tea from the cup Packed up the',\n",
       " 's cold Until the spring day comes again Until the flowers bloom again Please stay, please stay there a little']"
      ]
     },
     "execution_count": 5,
     "metadata": {},
     "output_type": "execute_result"
    }
   ],
   "source": [
    "# extract the text within the divs for lyrics\n",
    "\n",
    "lyrics = [l.text.strip() for l in html.find_all(\"div\", {\"class\": \"mini_card-lyric_excerpt\"})]\n",
    "lyrics = [l.text.strip().replace('\\n', ' ') for l in html.find_all(\"div\", {\"class\": \"mini_card-lyric_excerpt\"})]\n",
    "\n",
    "lyrics[0:5]"
   ]
  },
  {
   "cell_type": "code",
   "execution_count": 6,
   "metadata": {},
   "outputs": [
    {
     "data": {
      "text/html": [
       "<div>\n",
       "<style scoped>\n",
       "    .dataframe tbody tr th:only-of-type {\n",
       "        vertical-align: middle;\n",
       "    }\n",
       "\n",
       "    .dataframe tbody tr th {\n",
       "        vertical-align: top;\n",
       "    }\n",
       "\n",
       "    .dataframe thead th {\n",
       "        text-align: right;\n",
       "    }\n",
       "</style>\n",
       "<table border=\"1\" class=\"dataframe\">\n",
       "  <thead>\n",
       "    <tr style=\"text-align: right;\">\n",
       "      <th></th>\n",
       "      <th>Artist</th>\n",
       "      <th>Song</th>\n",
       "      <th>Lyrics</th>\n",
       "    </tr>\n",
       "  </thead>\n",
       "  <tbody>\n",
       "    <tr>\n",
       "      <th>0</th>\n",
       "      <td>Rae Sremmurd</td>\n",
       "      <td>Black Beatles</td>\n",
       "      <td>moneys (Ear Drummers) Rae Sremm, Guwop, Mike W...</td>\n",
       "    </tr>\n",
       "    <tr>\n",
       "      <th>1</th>\n",
       "      <td>Big Sean</td>\n",
       "      <td>Control</td>\n",
       "      <td>verse, then reigned on the hook The legend of ...</td>\n",
       "    </tr>\n",
       "    <tr>\n",
       "      <th>2</th>\n",
       "      <td>J. Cole</td>\n",
       "      <td>Power Trip</td>\n",
       "      <td>for ya Childish sh, you know child and sh Anon...</td>\n",
       "    </tr>\n",
       "    <tr>\n",
       "      <th>3</th>\n",
       "      <td>Ed Sheeran</td>\n",
       "      <td>Supermarket Flowers</td>\n",
       "      <td>I took the supermarket flowers from the window...</td>\n",
       "    </tr>\n",
       "    <tr>\n",
       "      <th>4</th>\n",
       "      <td>Genius English Translations</td>\n",
       "      <td>BTS - 봄날 (Spring Day) (English Translation)</td>\n",
       "      <td>s cold Until the spring day comes again Until ...</td>\n",
       "    </tr>\n",
       "  </tbody>\n",
       "</table>\n",
       "</div>"
      ],
      "text/plain": [
       "                        Artist                                         Song  \\\n",
       "0                 Rae Sremmurd                                Black Beatles   \n",
       "1                     Big Sean                                      Control   \n",
       "2                      J. Cole                                   Power Trip   \n",
       "3                   Ed Sheeran                          Supermarket Flowers   \n",
       "4  Genius English Translations  BTS - 봄날 (Spring Day) (English Translation)   \n",
       "\n",
       "                                              Lyrics  \n",
       "0  moneys (Ear Drummers) Rae Sremm, Guwop, Mike W...  \n",
       "1  verse, then reigned on the hook The legend of ...  \n",
       "2  for ya Childish sh, you know child and sh Anon...  \n",
       "3  I took the supermarket flowers from the window...  \n",
       "4  s cold Until the spring day comes again Until ...  "
      ]
     },
     "execution_count": 6,
     "metadata": {},
     "output_type": "execute_result"
    }
   ],
   "source": [
    "import pandas as pd\n",
    "\n",
    "# combine the artist, song and lyrics data into one dataframe\n",
    "songs_about_flowers = pd.DataFrame(zip(artists, songs, lyrics))\n",
    "songs_about_flowers.columns = ['Artist', 'Song', 'Lyrics']\n",
    "songs_about_flowers.head()"
   ]
  },
  {
   "cell_type": "code",
   "execution_count": 7,
   "metadata": {},
   "outputs": [],
   "source": [
    "# show all the text within the lyrics column instead of cutting it off\n",
    "pd.set_option('display.max_colwidth', None)"
   ]
  },
  {
   "cell_type": "markdown",
   "metadata": {},
   "source": [
    "## Step 3: Only Look at Top Artists"
   ]
  },
  {
   "cell_type": "code",
   "execution_count": 8,
   "metadata": {},
   "outputs": [],
   "source": [
    "# wiki page for most streamed artists on spotify\n",
    "url = 'https://en.wikipedia.org/wiki/List_of_most-streamed_artists_on_Spotify'"
   ]
  },
  {
   "cell_type": "code",
   "execution_count": 9,
   "metadata": {},
   "outputs": [
    {
     "data": {
      "text/html": [
       "<div>\n",
       "<style scoped>\n",
       "    .dataframe tbody tr th:only-of-type {\n",
       "        vertical-align: middle;\n",
       "    }\n",
       "\n",
       "    .dataframe tbody tr th {\n",
       "        vertical-align: top;\n",
       "    }\n",
       "\n",
       "    .dataframe thead th {\n",
       "        text-align: right;\n",
       "    }\n",
       "</style>\n",
       "<table border=\"1\" class=\"dataframe\">\n",
       "  <thead>\n",
       "    <tr style=\"text-align: right;\">\n",
       "      <th></th>\n",
       "      <th>Rank</th>\n",
       "      <th>Artist</th>\n",
       "      <th>Monthly listeners(millions)</th>\n",
       "      <th>Chg</th>\n",
       "      <th>Ref(s)</th>\n",
       "    </tr>\n",
       "  </thead>\n",
       "  <tbody>\n",
       "    <tr>\n",
       "      <th>0</th>\n",
       "      <td>1</td>\n",
       "      <td>The Weeknd</td>\n",
       "      <td>96.62</td>\n",
       "      <td>NaN</td>\n",
       "      <td>[1]</td>\n",
       "    </tr>\n",
       "    <tr>\n",
       "      <th>1</th>\n",
       "      <td>2</td>\n",
       "      <td>Taylor Swift</td>\n",
       "      <td>78.85</td>\n",
       "      <td>NaN</td>\n",
       "      <td>[2]</td>\n",
       "    </tr>\n",
       "    <tr>\n",
       "      <th>2</th>\n",
       "      <td>3</td>\n",
       "      <td>Ed Sheeran</td>\n",
       "      <td>76.99</td>\n",
       "      <td>NaN</td>\n",
       "      <td>[3]</td>\n",
       "    </tr>\n",
       "    <tr>\n",
       "      <th>3</th>\n",
       "      <td>4</td>\n",
       "      <td>Shakira</td>\n",
       "      <td>74.64</td>\n",
       "      <td>NaN</td>\n",
       "      <td>[4]</td>\n",
       "    </tr>\n",
       "    <tr>\n",
       "      <th>4</th>\n",
       "      <td>5</td>\n",
       "      <td>David Guetta</td>\n",
       "      <td>72.91</td>\n",
       "      <td>NaN</td>\n",
       "      <td>[5]</td>\n",
       "    </tr>\n",
       "  </tbody>\n",
       "</table>\n",
       "</div>"
      ],
      "text/plain": [
       "  Rank        Artist Monthly listeners(millions)  Chg Ref(s)\n",
       "0    1    The Weeknd                       96.62  NaN    [1]\n",
       "1    2  Taylor Swift                       78.85  NaN    [2]\n",
       "2    3    Ed Sheeran                       76.99  NaN    [3]\n",
       "3    4       Shakira                       74.64  NaN    [4]\n",
       "4    5  David Guetta                       72.91  NaN    [5]"
      ]
     },
     "execution_count": 9,
     "metadata": {},
     "output_type": "execute_result"
    }
   ],
   "source": [
    "# extract the first table from the page\n",
    "top_artists = pd.read_html(url)[0]\n",
    "top_artists.head()"
   ]
  },
  {
   "cell_type": "code",
   "execution_count": 10,
   "metadata": {},
   "outputs": [
    {
     "data": {
      "text/html": [
       "<div>\n",
       "<style scoped>\n",
       "    .dataframe tbody tr th:only-of-type {\n",
       "        vertical-align: middle;\n",
       "    }\n",
       "\n",
       "    .dataframe tbody tr th {\n",
       "        vertical-align: top;\n",
       "    }\n",
       "\n",
       "    .dataframe thead th {\n",
       "        text-align: right;\n",
       "    }\n",
       "</style>\n",
       "<table border=\"1\" class=\"dataframe\">\n",
       "  <thead>\n",
       "    <tr style=\"text-align: right;\">\n",
       "      <th></th>\n",
       "      <th>Artist</th>\n",
       "      <th>Song</th>\n",
       "      <th>Lyrics</th>\n",
       "    </tr>\n",
       "  </thead>\n",
       "  <tbody>\n",
       "    <tr>\n",
       "      <th>0</th>\n",
       "      <td>Taylor Swift</td>\n",
       "      <td>Call It What You Want</td>\n",
       "      <td>want, yeah Call it what you want to All my flowers grew back as thorns Windows boarded up after the</td>\n",
       "    </tr>\n",
       "    <tr>\n",
       "      <th>1</th>\n",
       "      <td>Taylor Swift</td>\n",
       "      <td>Clean</td>\n",
       "      <td>The drought was the very worst (Oh-oh, oh-oh) When the flowers that we'd grown together died of</td>\n",
       "    </tr>\n",
       "    <tr>\n",
       "      <th>2</th>\n",
       "      <td>Ed Sheeran</td>\n",
       "      <td>Supermarket Flowers</td>\n",
       "      <td>I took the supermarket flowers from the windowsill I threw the day old tea from the cup Packed up the</td>\n",
       "    </tr>\n",
       "    <tr>\n",
       "      <th>3</th>\n",
       "      <td>Miley Cyrus</td>\n",
       "      <td>Flowers</td>\n",
       "      <td>to cry, but then remembered I I can buy myself flowers Write my name in the sand Talk to myself</td>\n",
       "    </tr>\n",
       "    <tr>\n",
       "      <th>4</th>\n",
       "      <td>Drake</td>\n",
       "      <td>Tuscan Leather</td>\n",
       "      <td>Dwight Howard couldn't reach, n Prince Akeem, they throw flowers at my feet, n I could go a hour</td>\n",
       "    </tr>\n",
       "    <tr>\n",
       "      <th>5</th>\n",
       "      <td>Drake</td>\n",
       "      <td>Sandra’s Rose</td>\n",
       "      <td>out of a living hell I'm the chosen one, flowers never pick themselves Yeah, no more, no more Baby</td>\n",
       "    </tr>\n",
       "    <tr>\n",
       "      <th>6</th>\n",
       "      <td>Eminem</td>\n",
       "      <td>Drug Ballad</td>\n",
       "      <td>I'm going to a pretty place now where the flowers grow I'll be back in an hour or</td>\n",
       "    </tr>\n",
       "    <tr>\n",
       "      <th>7</th>\n",
       "      <td>Harry Styles</td>\n",
       "      <td>Sunflower, Vol. 6</td>\n",
       "      <td>in the gallery I love this shade, sunflower, sunflower Your flowers just died, plant new seeds in the melody Let</td>\n",
       "    </tr>\n",
       "    <tr>\n",
       "      <th>8</th>\n",
       "      <td>Harry Styles</td>\n",
       "      <td>Grapejuice</td>\n",
       "      <td>sunny afternoon I was on my way to buy some flowers for you Thought that we could hide away in</td>\n",
       "    </tr>\n",
       "    <tr>\n",
       "      <th>9</th>\n",
       "      <td>Bruno Mars</td>\n",
       "      <td>When I Was Your Man</td>\n",
       "      <td>too dumb to realize That I should've bought you flowers And held your hand Shoulda gave you all my</td>\n",
       "    </tr>\n",
       "    <tr>\n",
       "      <th>10</th>\n",
       "      <td>Ariana Grande</td>\n",
       "      <td>The Way</td>\n",
       "      <td>Do my singin' in the shower, pickin' petals off of flowers like Do she love me, do she love me</td>\n",
       "    </tr>\n",
       "  </tbody>\n",
       "</table>\n",
       "</div>"
      ],
      "text/plain": [
       "           Artist                   Song  \\\n",
       "0    Taylor Swift  Call It What You Want   \n",
       "1    Taylor Swift                  Clean   \n",
       "2      Ed Sheeran    Supermarket Flowers   \n",
       "3     Miley Cyrus                Flowers   \n",
       "4           Drake         Tuscan Leather   \n",
       "5           Drake          Sandra’s Rose   \n",
       "6          Eminem            Drug Ballad   \n",
       "7    Harry Styles      Sunflower, Vol. 6   \n",
       "8    Harry Styles             Grapejuice   \n",
       "9      Bruno Mars    When I Was Your Man   \n",
       "10  Ariana Grande                The Way   \n",
       "\n",
       "                                                                                                              Lyrics  \n",
       "0                want, yeah Call it what you want to All my flowers grew back as thorns Windows boarded up after the  \n",
       "1                    The drought was the very worst (Oh-oh, oh-oh) When the flowers that we'd grown together died of  \n",
       "2              I took the supermarket flowers from the windowsill I threw the day old tea from the cup Packed up the  \n",
       "3                    to cry, but then remembered I I can buy myself flowers Write my name in the sand Talk to myself  \n",
       "4                   Dwight Howard couldn't reach, n Prince Akeem, they throw flowers at my feet, n I could go a hour  \n",
       "5                 out of a living hell I'm the chosen one, flowers never pick themselves Yeah, no more, no more Baby  \n",
       "6                                  I'm going to a pretty place now where the flowers grow I'll be back in an hour or  \n",
       "7   in the gallery I love this shade, sunflower, sunflower Your flowers just died, plant new seeds in the melody Let  \n",
       "8                     sunny afternoon I was on my way to buy some flowers for you Thought that we could hide away in  \n",
       "9                 too dumb to realize That I should've bought you flowers And held your hand Shoulda gave you all my  \n",
       "10                    Do my singin' in the shower, pickin' petals off of flowers like Do she love me, do she love me  "
      ]
     },
     "execution_count": 10,
     "metadata": {},
     "output_type": "execute_result"
    }
   ],
   "source": [
    "# merge the two tables to display songs about flowers by only the top artists\n",
    "df = pd.merge(top_artists.Artist, songs_about_flowers, \"inner\", left_on = 'Artist', right_on = 'Artist')\n",
    "df"
   ]
  },
  {
   "cell_type": "markdown",
   "metadata": {},
   "source": [
    "## Step 4: Apply Sentiment Analysis "
   ]
  },
  {
   "cell_type": "code",
   "execution_count": 11,
   "metadata": {},
   "outputs": [],
   "source": [
    "from vaderSentiment.vaderSentiment import SentimentIntensityAnalyzer\n",
    "\n",
    "sid_obj = SentimentIntensityAnalyzer()"
   ]
  },
  {
   "cell_type": "code",
   "execution_count": 12,
   "metadata": {},
   "outputs": [
    {
     "name": "stdout",
     "output_type": "stream",
     "text": [
      "0.4215\n",
      "-0.8399\n",
      "0.0\n",
      "-0.2617\n",
      "-0.0191\n",
      "-0.7584\n",
      "0.4939\n",
      "0.1531\n",
      "0.2732\n",
      "-0.0258\n",
      "0.8979\n"
     ]
    }
   ],
   "source": [
    "# find the sentiment of each lyric clip\n",
    "sentiment_scores = []\n",
    "\n",
    "for i in range(11):\n",
    "    sentiment_dict = sid_obj.polarity_scores(df.iloc[i,2])\n",
    "    sentiment_scores.append(sentiment_dict['compound'])\n",
    "    print(sentiment_dict['compound'])"
   ]
  },
  {
   "cell_type": "code",
   "execution_count": 13,
   "metadata": {},
   "outputs": [
    {
     "data": {
      "text/html": [
       "<div>\n",
       "<style scoped>\n",
       "    .dataframe tbody tr th:only-of-type {\n",
       "        vertical-align: middle;\n",
       "    }\n",
       "\n",
       "    .dataframe tbody tr th {\n",
       "        vertical-align: top;\n",
       "    }\n",
       "\n",
       "    .dataframe thead th {\n",
       "        text-align: right;\n",
       "    }\n",
       "</style>\n",
       "<table border=\"1\" class=\"dataframe\">\n",
       "  <thead>\n",
       "    <tr style=\"text-align: right;\">\n",
       "      <th></th>\n",
       "      <th>Artist</th>\n",
       "      <th>Song</th>\n",
       "      <th>Lyrics</th>\n",
       "      <th>Sentiment</th>\n",
       "    </tr>\n",
       "  </thead>\n",
       "  <tbody>\n",
       "    <tr>\n",
       "      <th>10</th>\n",
       "      <td>Ariana Grande</td>\n",
       "      <td>The Way</td>\n",
       "      <td>Do my singin' in the shower, pickin' petals off of flowers like Do she love me, do she love me</td>\n",
       "      <td>0.8979</td>\n",
       "    </tr>\n",
       "    <tr>\n",
       "      <th>6</th>\n",
       "      <td>Eminem</td>\n",
       "      <td>Drug Ballad</td>\n",
       "      <td>I'm going to a pretty place now where the flowers grow I'll be back in an hour or</td>\n",
       "      <td>0.4939</td>\n",
       "    </tr>\n",
       "    <tr>\n",
       "      <th>0</th>\n",
       "      <td>Taylor Swift</td>\n",
       "      <td>Call It What You Want</td>\n",
       "      <td>want, yeah Call it what you want to All my flowers grew back as thorns Windows boarded up after the</td>\n",
       "      <td>0.4215</td>\n",
       "    </tr>\n",
       "    <tr>\n",
       "      <th>8</th>\n",
       "      <td>Harry Styles</td>\n",
       "      <td>Grapejuice</td>\n",
       "      <td>sunny afternoon I was on my way to buy some flowers for you Thought that we could hide away in</td>\n",
       "      <td>0.2732</td>\n",
       "    </tr>\n",
       "    <tr>\n",
       "      <th>7</th>\n",
       "      <td>Harry Styles</td>\n",
       "      <td>Sunflower, Vol. 6</td>\n",
       "      <td>in the gallery I love this shade, sunflower, sunflower Your flowers just died, plant new seeds in the melody Let</td>\n",
       "      <td>0.1531</td>\n",
       "    </tr>\n",
       "    <tr>\n",
       "      <th>2</th>\n",
       "      <td>Ed Sheeran</td>\n",
       "      <td>Supermarket Flowers</td>\n",
       "      <td>I took the supermarket flowers from the windowsill I threw the day old tea from the cup Packed up the</td>\n",
       "      <td>0.0000</td>\n",
       "    </tr>\n",
       "    <tr>\n",
       "      <th>4</th>\n",
       "      <td>Drake</td>\n",
       "      <td>Tuscan Leather</td>\n",
       "      <td>Dwight Howard couldn't reach, n Prince Akeem, they throw flowers at my feet, n I could go a hour</td>\n",
       "      <td>-0.0191</td>\n",
       "    </tr>\n",
       "    <tr>\n",
       "      <th>9</th>\n",
       "      <td>Bruno Mars</td>\n",
       "      <td>When I Was Your Man</td>\n",
       "      <td>too dumb to realize That I should've bought you flowers And held your hand Shoulda gave you all my</td>\n",
       "      <td>-0.0258</td>\n",
       "    </tr>\n",
       "    <tr>\n",
       "      <th>3</th>\n",
       "      <td>Miley Cyrus</td>\n",
       "      <td>Flowers</td>\n",
       "      <td>to cry, but then remembered I I can buy myself flowers Write my name in the sand Talk to myself</td>\n",
       "      <td>-0.2617</td>\n",
       "    </tr>\n",
       "    <tr>\n",
       "      <th>5</th>\n",
       "      <td>Drake</td>\n",
       "      <td>Sandra’s Rose</td>\n",
       "      <td>out of a living hell I'm the chosen one, flowers never pick themselves Yeah, no more, no more Baby</td>\n",
       "      <td>-0.7584</td>\n",
       "    </tr>\n",
       "    <tr>\n",
       "      <th>1</th>\n",
       "      <td>Taylor Swift</td>\n",
       "      <td>Clean</td>\n",
       "      <td>The drought was the very worst (Oh-oh, oh-oh) When the flowers that we'd grown together died of</td>\n",
       "      <td>-0.8399</td>\n",
       "    </tr>\n",
       "  </tbody>\n",
       "</table>\n",
       "</div>"
      ],
      "text/plain": [
       "           Artist                   Song  \\\n",
       "10  Ariana Grande                The Way   \n",
       "6          Eminem            Drug Ballad   \n",
       "0    Taylor Swift  Call It What You Want   \n",
       "8    Harry Styles             Grapejuice   \n",
       "7    Harry Styles      Sunflower, Vol. 6   \n",
       "2      Ed Sheeran    Supermarket Flowers   \n",
       "4           Drake         Tuscan Leather   \n",
       "9      Bruno Mars    When I Was Your Man   \n",
       "3     Miley Cyrus                Flowers   \n",
       "5           Drake          Sandra’s Rose   \n",
       "1    Taylor Swift                  Clean   \n",
       "\n",
       "                                                                                                              Lyrics  \\\n",
       "10                    Do my singin' in the shower, pickin' petals off of flowers like Do she love me, do she love me   \n",
       "6                                  I'm going to a pretty place now where the flowers grow I'll be back in an hour or   \n",
       "0                want, yeah Call it what you want to All my flowers grew back as thorns Windows boarded up after the   \n",
       "8                     sunny afternoon I was on my way to buy some flowers for you Thought that we could hide away in   \n",
       "7   in the gallery I love this shade, sunflower, sunflower Your flowers just died, plant new seeds in the melody Let   \n",
       "2              I took the supermarket flowers from the windowsill I threw the day old tea from the cup Packed up the   \n",
       "4                   Dwight Howard couldn't reach, n Prince Akeem, they throw flowers at my feet, n I could go a hour   \n",
       "9                 too dumb to realize That I should've bought you flowers And held your hand Shoulda gave you all my   \n",
       "3                    to cry, but then remembered I I can buy myself flowers Write my name in the sand Talk to myself   \n",
       "5                 out of a living hell I'm the chosen one, flowers never pick themselves Yeah, no more, no more Baby   \n",
       "1                    The drought was the very worst (Oh-oh, oh-oh) When the flowers that we'd grown together died of   \n",
       "\n",
       "    Sentiment  \n",
       "10     0.8979  \n",
       "6      0.4939  \n",
       "0      0.4215  \n",
       "8      0.2732  \n",
       "7      0.1531  \n",
       "2      0.0000  \n",
       "4     -0.0191  \n",
       "9     -0.0258  \n",
       "3     -0.2617  \n",
       "5     -0.7584  \n",
       "1     -0.8399  "
      ]
     },
     "execution_count": 13,
     "metadata": {},
     "output_type": "execute_result"
    }
   ],
   "source": [
    "# add the sentiment scores to the original dataframe and sort by sentiment score\n",
    "df['Sentiment'] = sentiment_scores\n",
    "df.sort_values(by = 'Sentiment', ascending=False)"
   ]
  },
  {
   "cell_type": "markdown",
   "metadata": {},
   "source": [
    "## Step 5: Summarize Insights"
   ]
  },
  {
   "cell_type": "markdown",
   "metadata": {},
   "source": [
    "* Most positive reference to flowers:\n",
    "    * Ariana Grande and Mac Miller's The Way is a true love song\n",
    "    * Eminem's Drug Ballad is a love song to drugs\n",
    "\n",
    "    \n",
    "* Most negative reference to flowers:\n",
    "    * Taylor Swift's Clean about how the flowers died and that time was the worst\n",
    "    * Miley and Bruno Mars's songs are on the more negative side as well"
   ]
  },
  {
   "cell_type": "code",
   "execution_count": null,
   "metadata": {},
   "outputs": [],
   "source": []
  }
 ],
 "metadata": {
  "kernelspec": {
   "display_name": "Python 3",
   "language": "python",
   "name": "python3"
  },
  "language_info": {
   "codemirror_mode": {
    "name": "ipython",
    "version": 3
   },
   "file_extension": ".py",
   "mimetype": "text/x-python",
   "name": "python",
   "nbconvert_exporter": "python",
   "pygments_lexer": "ipython3",
   "version": "3.8.5"
  }
 },
 "nbformat": 4,
 "nbformat_minor": 4
}
